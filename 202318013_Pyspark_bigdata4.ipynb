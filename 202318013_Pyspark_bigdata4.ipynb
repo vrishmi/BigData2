{
  "nbformat": 4,
  "nbformat_minor": 0,
  "metadata": {
    "colab": {
      "provenance": [],
      "include_colab_link": true
    },
    "kernelspec": {
      "name": "python3",
      "display_name": "Python 3"
    },
    "language_info": {
      "name": "python"
    }
  },
  "cells": [
    {
      "cell_type": "markdown",
      "metadata": {
        "id": "view-in-github",
        "colab_type": "text"
      },
      "source": [
        "<a href=\"https://colab.research.google.com/github/vrishmi/BigData2/blob/master/202318013_Pyspark_bigdata4.ipynb\" target=\"_parent\"><img src=\"https://colab.research.google.com/assets/colab-badge.svg\" alt=\"Open In Colab\"/></a>"
      ]
    },
    {
      "cell_type": "markdown",
      "source": [
        "#BigData Processing Assignment- 4\n",
        "##Vrishmi Parikh\n",
        "#202318013"
      ],
      "metadata": {
        "id": "5jysBhIZHDZ_"
      }
    },
    {
      "cell_type": "code",
      "source": [
        "pip install pyspark"
      ],
      "metadata": {
        "colab": {
          "base_uri": "https://localhost:8080/"
        },
        "id": "ybleq08IznA5",
        "outputId": "4e063d17-0457-42fe-bd21-96ef6507d74f"
      },
      "execution_count": null,
      "outputs": [
        {
          "output_type": "stream",
          "name": "stdout",
          "text": [
            "Collecting pyspark\n",
            "  Downloading pyspark-3.5.1.tar.gz (317.0 MB)\n",
            "\u001b[2K     \u001b[90m━━━━━━━━━━━━━━━━━━━━━━━━━━━━━━━━━━━━━━━━\u001b[0m \u001b[32m317.0/317.0 MB\u001b[0m \u001b[31m2.0 MB/s\u001b[0m eta \u001b[36m0:00:00\u001b[0m\n",
            "\u001b[?25h  Preparing metadata (setup.py) ... \u001b[?25l\u001b[?25hdone\n",
            "Requirement already satisfied: py4j==0.10.9.7 in /usr/local/lib/python3.10/dist-packages (from pyspark) (0.10.9.7)\n",
            "Building wheels for collected packages: pyspark\n",
            "  Building wheel for pyspark (setup.py) ... \u001b[?25l\u001b[?25hdone\n",
            "  Created wheel for pyspark: filename=pyspark-3.5.1-py2.py3-none-any.whl size=317488493 sha256=262c28a80fb5452a99460fa82ec2d714b5548c436068293075eac98f87debfeb\n",
            "  Stored in directory: /root/.cache/pip/wheels/80/1d/60/2c256ed38dddce2fdd93be545214a63e02fbd8d74fb0b7f3a6\n",
            "Successfully built pyspark\n",
            "Installing collected packages: pyspark\n",
            "Successfully installed pyspark-3.5.1\n"
          ]
        }
      ]
    },
    {
      "cell_type": "markdown",
      "source": [
        "##TASK-1:\n",
        "Generate 100 random numbers in range 0 to 10 using numpy\n",
        "randint function with the seed set to 10. Create a RDD using the paral-\n",
        "lelize function using data generated in previous step. Calculate the fre-\n",
        "quency of each number (0 - 10) using appropriate function of RDD."
      ],
      "metadata": {
        "id": "Rlc78CnT5HUV"
      }
    },
    {
      "cell_type": "code",
      "source": [
        "from pyspark import SparkContext\n",
        "\n",
        "# Initializing SparkContext\n",
        "sc = SparkContext(\"local\", \"RDD Task-1\")\n",
        "\n",
        "# Generating 100 random numbers in the range 0 to 10 using numpy\n",
        "import numpy as np\n",
        "np.random.seed(10)\n",
        "random_nums = np.random.randint(0, 11, 100)\n",
        "\n",
        "# Creating an RDD using parallelize function\n",
        "rdd_numbers = sc.parallelize(random_nums)\n",
        "\n",
        "# Calculating the frequency of each number using RDD functions\n",
        "freq_count = rdd_numbers.countByValue()\n",
        "\n",
        "for number, count in sorted(freq_count.items()):\n",
        "    print(f\"Number {number}: {count} occurrences\")\n",
        "\n",
        "# Stopping SparkContext\n",
        "sc.stop()"
      ],
      "metadata": {
        "colab": {
          "base_uri": "https://localhost:8080/"
        },
        "id": "TP3xLeEI0VbL",
        "outputId": "41bb15ff-1de6-43ac-f52e-34cfaf0ce556"
      },
      "execution_count": null,
      "outputs": [
        {
          "output_type": "stream",
          "name": "stdout",
          "text": [
            "Number 0: 12 occurrences\n",
            "Number 1: 11 occurrences\n",
            "Number 2: 8 occurrences\n",
            "Number 3: 6 occurrences\n",
            "Number 4: 8 occurrences\n",
            "Number 5: 5 occurrences\n",
            "Number 6: 11 occurrences\n",
            "Number 7: 5 occurrences\n",
            "Number 8: 14 occurrences\n",
            "Number 9: 12 occurrences\n",
            "Number 10: 8 occurrences\n"
          ]
        }
      ]
    },
    {
      "cell_type": "markdown",
      "source": [
        "##TASK-2:\n",
        "In this task you will calculate the frequency of each word in\n",
        "text8 dataset mentioned above. Create a RDD using the text8 dataset.\n",
        "\n",
        "Use appropriate functions of the RDD to get the word frequencies. Filter the RDD using appropriate function to get the frequencies of words\n",
        "\n",
        "containing the letter ’a’."
      ],
      "metadata": {
        "id": "G6mpGFLn5UH_"
      }
    },
    {
      "cell_type": "code",
      "source": [
        "import urllib.request\n",
        "import os\n",
        "import zipfile\n",
        "\n",
        "# URL to the text8 dataset\n",
        "url = \"http://mattmahoney.net/dc/text8.zip\"\n",
        "\n",
        "# Specifing the directory to save the zip file\n",
        "download_dir = \"/content/\"\n",
        "\n",
        "# Ensuring the directory exists otherwise create it\n",
        "os.makedirs(download_dir, exist_ok=True)\n",
        "\n",
        "# Specifing the file path to save the zip file\n",
        "zip_file_path = os.path.join(download_dir, \"text8.zip\")\n",
        "\n",
        "# Specifing the folder to extract the contents\n",
        "extracted_folder_path = os.path.join(download_dir, \"text8/\")\n",
        "\n",
        "# Ensuring the folder exists otherwise create it\n",
        "os.makedirs(extracted_folder_path, exist_ok=True)\n",
        "\n",
        "# Downloading the text8 dataset\n",
        "urllib.request.urlretrieve(url, zip_file_path)\n",
        "\n",
        "# Extracting the contents of the zip file\n",
        "with zipfile.ZipFile(zip_file_path, \"r\") as zip_ref:\n",
        "    zip_ref.extractall(extracted_folder_path)\n",
        "\n",
        "print(\"Text8 dataset downloaded and extracted successfully.\")\n"
      ],
      "metadata": {
        "colab": {
          "base_uri": "https://localhost:8080/"
        },
        "id": "tcPYO5TF4coZ",
        "outputId": "afb88761-43a8-4bed-c7ff-89f6bea14e42"
      },
      "execution_count": null,
      "outputs": [
        {
          "output_type": "stream",
          "name": "stdout",
          "text": [
            "text8 dataset downloaded and extracted successfully.\n"
          ]
        }
      ]
    },
    {
      "cell_type": "code",
      "source": [
        "# Specifing the path to the text file within the extracted folder\n",
        "text_file_path = os.path.join(extracted_folder_path, \"text8\")\n",
        "\n",
        "# Reading the contents of the text file\n",
        "with open(text_file_path, 'r', encoding='utf-8') as file:\n",
        "    text_data = file.read()\n",
        "\n",
        "# Printing the first 500 characters of the text data\n",
        "print(text_data[:500])\n"
      ],
      "metadata": {
        "colab": {
          "base_uri": "https://localhost:8080/"
        },
        "id": "PJMDx3Nq4mXA",
        "outputId": "9d928d12-0d02-43cb-cf2d-fa391b3551a3"
      },
      "execution_count": null,
      "outputs": [
        {
          "output_type": "stream",
          "name": "stdout",
          "text": [
            " anarchism originated as a term of abuse first used against early working class radicals including the diggers of the english revolution and the sans culottes of the french revolution whilst the term is still used in a pejorative way to describe any act that used violent means to destroy the organization of society it has also been taken up as a positive label by self defined anarchists the word anarchism is derived from the greek without archons ruler chief king anarchism as a political philoso\n"
          ]
        }
      ]
    },
    {
      "cell_type": "code",
      "source": [
        "from pyspark import SparkContext\n",
        "\n",
        "# Initializing SparkContext\n",
        "sc = SparkContext(\"local\", \"StealthyRDD_Task\")\n",
        "\n",
        "text_rdd = sc.parallelize(text_data[:500].splitlines())\n",
        "\n",
        "# Splitting each line into secret code chunks and flatMap to create a list of classified fragments\n",
        "classified_fragments_rdd = text_rdd.flatMap(lambda line: line.split(\" \"))\n",
        "\n",
        "# Concealing fragments that contain the classified letter 'a'\n",
        "concealed_fragments_rdd = classified_fragments_rdd.filter(lambda fragment: 'a' in fragment)\n",
        "\n",
        "# Encoding each fragment into a mysterious tuple with the fragment as the key and 1 as the enigmatic value\n",
        "encoded_fragments_rdd = concealed_fragments_rdd.map(lambda fragment: (fragment, 1))\n",
        "\n",
        "# Decrypting by key to get the frequency of each covert fragment\n",
        "decoded_frequencies_rdd = encoded_fragments_rdd.reduceByKey(lambda x, y: x + y)\n",
        "\n",
        "# Gathering the results without raising suspicions\n",
        "hidden_results = decoded_frequencies_rdd.collect()\n",
        "\n",
        "# Printing the coverted frequencies in a discrete manner\n",
        "for secret_code, occurrence in hidden_results:\n",
        "    print(f\"{secret_code}: {occurrence}\")\n",
        "\n",
        "# Terminating the SparkContext to avoid leaving traces\n",
        "sc.stop()\n"
      ],
      "metadata": {
        "colab": {
          "base_uri": "https://localhost:8080/"
        },
        "id": "aenfG5jC6mwF",
        "outputId": "743c6f12-f886-4e92-82d2-328d3454ea57"
      },
      "execution_count": null,
      "outputs": [
        {
          "output_type": "stream",
          "name": "stdout",
          "text": [
            "anarchism: 3\n",
            "originated: 1\n",
            "as: 3\n",
            "a: 4\n",
            "abuse: 1\n",
            "against: 1\n",
            "early: 1\n",
            "class: 1\n",
            "radicals: 1\n",
            "and: 1\n",
            "sans: 1\n",
            "pejorative: 1\n",
            "way: 1\n",
            "any: 1\n",
            "act: 1\n",
            "that: 1\n",
            "means: 1\n",
            "organization: 1\n",
            "has: 1\n",
            "also: 1\n",
            "taken: 1\n",
            "label: 1\n",
            "anarchists: 1\n",
            "archons: 1\n",
            "political: 1\n"
          ]
        }
      ]
    },
    {
      "cell_type": "markdown",
      "source": [
        "##DataFrame Task:\n",
        " Create a Spark dataframe using the iris json data men-\n",
        "tioned above. Calculate Pearson Correlation between the columns petal-\n",
        "Length and petalWidth using the appropriate dataframe API. Show the\n",
        "\n",
        "columns sepalLength, sepalWidth and species for the rows of data that has\n",
        "petalLength greater than or equal to 1.4 using the appropriate dataframe\n",
        "API."
      ],
      "metadata": {
        "id": "-OZbZJb_-YnD"
      }
    },
    {
      "cell_type": "code",
      "source": [
        "!mkdir -p ~/.kaggle\n",
        "!cp kaggle.json ~/.kaggle/"
      ],
      "metadata": {
        "id": "lwxD19ua89Tj"
      },
      "execution_count": null,
      "outputs": []
    },
    {
      "cell_type": "code",
      "source": [
        "!kaggle datasets download -d rtatman/iris-dataset-json-version"
      ],
      "metadata": {
        "colab": {
          "base_uri": "https://localhost:8080/"
        },
        "id": "eaFafMWA88Ux",
        "outputId": "05a31845-c022-4542-d166-94d783110e15"
      },
      "execution_count": null,
      "outputs": [
        {
          "output_type": "stream",
          "name": "stdout",
          "text": [
            "Warning: Your Kaggle API key is readable by other users on this system! To fix this, you can run 'chmod 600 /root/.kaggle/kaggle.json'\n",
            "Downloading iris-dataset-json-version.zip to /content\n",
            "  0% 0.00/1.31k [00:00<?, ?B/s]\n",
            "100% 1.31k/1.31k [00:00<00:00, 2.09MB/s]\n"
          ]
        }
      ]
    },
    {
      "cell_type": "code",
      "source": [
        "import zipfile\n",
        "zip_ref = zipfile.ZipFile('/content/iris-dataset-json-version.zip', 'r')\n",
        "zip_ref.extractall('/content')\n",
        "zip_ref.close()"
      ],
      "metadata": {
        "id": "nAyAJNCH9QKX"
      },
      "execution_count": null,
      "outputs": []
    },
    {
      "cell_type": "code",
      "source": [
        "import pandas as pd\n",
        "df=pd.read_csv('/content/iris.json')\n",
        "df"
      ],
      "metadata": {
        "id": "Hmjeh_H8Bbwr",
        "colab": {
          "base_uri": "https://localhost:8080/",
          "height": 423
        },
        "outputId": "02a9d910-071c-417f-96c8-212a3e949074"
      },
      "execution_count": null,
      "outputs": [
        {
          "output_type": "execute_result",
          "data": {
            "text/plain": [
              "                                                                                                           [\n",
              "  {\"sepalLength\": 5.1  \"sepalWidth\": 3.5  \"petalLength\": 1.4  \"petalWidth\": 0.2  \"species\": \"setosa\"}    NaN\n",
              "  {\"sepalLength\": 4.9  \"sepalWidth\": 3.0  \"petalLength\": 1.4  \"petalWidth\": 0.2  \"species\": \"setosa\"}    NaN\n",
              "  {\"sepalLength\": 4.7  \"sepalWidth\": 3.2  \"petalLength\": 1.3  \"petalWidth\": 0.2  \"species\": \"setosa\"}    NaN\n",
              "  {\"sepalLength\": 4.6  \"sepalWidth\": 3.1  \"petalLength\": 1.5  \"petalWidth\": 0.2  \"species\": \"setosa\"}    NaN\n",
              "  {\"sepalLength\": 5.0  \"sepalWidth\": 3.6  \"petalLength\": 1.4  \"petalWidth\": 0.2  \"species\": \"setosa\"}    NaN\n",
              "...                                                                                                       ..\n",
              "  {\"sepalLength\": 6.3  \"sepalWidth\": 2.5  \"petalLength\": 5.0  \"petalWidth\": 1.9  \"species\": \"virginica\"} NaN\n",
              "  {\"sepalLength\": 6.5  \"sepalWidth\": 3.0  \"petalLength\": 5.2  \"petalWidth\": 2.0  \"species\": \"virginica\"} NaN\n",
              "  {\"sepalLength\": 6.2  \"sepalWidth\": 3.4  \"petalLength\": 5.4  \"petalWidth\": 2.3  \"species\": \"virginica\"} NaN\n",
              "  {\"sepalLength\": 5.9  \"sepalWidth\": 3.0  \"petalLength\": 5.1  \"petalWidth\": 1.8  \"species\": \"virginica\"} NaN\n",
              "]                     NaN                NaN                 NaN                NaN                      NaN\n",
              "\n",
              "[151 rows x 1 columns]"
            ],
            "text/html": [
              "\n",
              "  <div id=\"df-253d797e-2b86-41f2-85d3-5adf29739e3f\" class=\"colab-df-container\">\n",
              "    <div>\n",
              "<style scoped>\n",
              "    .dataframe tbody tr th:only-of-type {\n",
              "        vertical-align: middle;\n",
              "    }\n",
              "\n",
              "    .dataframe tbody tr th {\n",
              "        vertical-align: top;\n",
              "    }\n",
              "\n",
              "    .dataframe thead th {\n",
              "        text-align: right;\n",
              "    }\n",
              "</style>\n",
              "<table border=\"1\" class=\"dataframe\">\n",
              "  <thead>\n",
              "    <tr style=\"text-align: right;\">\n",
              "      <th></th>\n",
              "      <th></th>\n",
              "      <th></th>\n",
              "      <th></th>\n",
              "      <th></th>\n",
              "      <th>[</th>\n",
              "    </tr>\n",
              "  </thead>\n",
              "  <tbody>\n",
              "    <tr>\n",
              "      <th>{\"sepalLength\": 5.1</th>\n",
              "      <th>\"sepalWidth\": 3.5</th>\n",
              "      <th>\"petalLength\": 1.4</th>\n",
              "      <th>\"petalWidth\": 0.2</th>\n",
              "      <th>\"species\": \"setosa\"}</th>\n",
              "      <td>NaN</td>\n",
              "    </tr>\n",
              "    <tr>\n",
              "      <th>{\"sepalLength\": 4.9</th>\n",
              "      <th>\"sepalWidth\": 3.0</th>\n",
              "      <th>\"petalLength\": 1.4</th>\n",
              "      <th>\"petalWidth\": 0.2</th>\n",
              "      <th>\"species\": \"setosa\"}</th>\n",
              "      <td>NaN</td>\n",
              "    </tr>\n",
              "    <tr>\n",
              "      <th>{\"sepalLength\": 4.7</th>\n",
              "      <th>\"sepalWidth\": 3.2</th>\n",
              "      <th>\"petalLength\": 1.3</th>\n",
              "      <th>\"petalWidth\": 0.2</th>\n",
              "      <th>\"species\": \"setosa\"}</th>\n",
              "      <td>NaN</td>\n",
              "    </tr>\n",
              "    <tr>\n",
              "      <th>{\"sepalLength\": 4.6</th>\n",
              "      <th>\"sepalWidth\": 3.1</th>\n",
              "      <th>\"petalLength\": 1.5</th>\n",
              "      <th>\"petalWidth\": 0.2</th>\n",
              "      <th>\"species\": \"setosa\"}</th>\n",
              "      <td>NaN</td>\n",
              "    </tr>\n",
              "    <tr>\n",
              "      <th>{\"sepalLength\": 5.0</th>\n",
              "      <th>\"sepalWidth\": 3.6</th>\n",
              "      <th>\"petalLength\": 1.4</th>\n",
              "      <th>\"petalWidth\": 0.2</th>\n",
              "      <th>\"species\": \"setosa\"}</th>\n",
              "      <td>NaN</td>\n",
              "    </tr>\n",
              "    <tr>\n",
              "      <th>...</th>\n",
              "      <th>...</th>\n",
              "      <th>...</th>\n",
              "      <th>...</th>\n",
              "      <th>...</th>\n",
              "      <td>...</td>\n",
              "    </tr>\n",
              "    <tr>\n",
              "      <th>{\"sepalLength\": 6.3</th>\n",
              "      <th>\"sepalWidth\": 2.5</th>\n",
              "      <th>\"petalLength\": 5.0</th>\n",
              "      <th>\"petalWidth\": 1.9</th>\n",
              "      <th>\"species\": \"virginica\"}</th>\n",
              "      <td>NaN</td>\n",
              "    </tr>\n",
              "    <tr>\n",
              "      <th>{\"sepalLength\": 6.5</th>\n",
              "      <th>\"sepalWidth\": 3.0</th>\n",
              "      <th>\"petalLength\": 5.2</th>\n",
              "      <th>\"petalWidth\": 2.0</th>\n",
              "      <th>\"species\": \"virginica\"}</th>\n",
              "      <td>NaN</td>\n",
              "    </tr>\n",
              "    <tr>\n",
              "      <th>{\"sepalLength\": 6.2</th>\n",
              "      <th>\"sepalWidth\": 3.4</th>\n",
              "      <th>\"petalLength\": 5.4</th>\n",
              "      <th>\"petalWidth\": 2.3</th>\n",
              "      <th>\"species\": \"virginica\"}</th>\n",
              "      <td>NaN</td>\n",
              "    </tr>\n",
              "    <tr>\n",
              "      <th>{\"sepalLength\": 5.9</th>\n",
              "      <th>\"sepalWidth\": 3.0</th>\n",
              "      <th>\"petalLength\": 5.1</th>\n",
              "      <th>\"petalWidth\": 1.8</th>\n",
              "      <th>\"species\": \"virginica\"}</th>\n",
              "      <td>NaN</td>\n",
              "    </tr>\n",
              "    <tr>\n",
              "      <th>]</th>\n",
              "      <th>NaN</th>\n",
              "      <th>NaN</th>\n",
              "      <th>NaN</th>\n",
              "      <th>NaN</th>\n",
              "      <td>NaN</td>\n",
              "    </tr>\n",
              "  </tbody>\n",
              "</table>\n",
              "<p>151 rows × 1 columns</p>\n",
              "</div>\n",
              "    <div class=\"colab-df-buttons\">\n",
              "\n",
              "  <div class=\"colab-df-container\">\n",
              "    <button class=\"colab-df-convert\" onclick=\"convertToInteractive('df-253d797e-2b86-41f2-85d3-5adf29739e3f')\"\n",
              "            title=\"Convert this dataframe to an interactive table.\"\n",
              "            style=\"display:none;\">\n",
              "\n",
              "  <svg xmlns=\"http://www.w3.org/2000/svg\" height=\"24px\" viewBox=\"0 -960 960 960\">\n",
              "    <path d=\"M120-120v-720h720v720H120Zm60-500h600v-160H180v160Zm220 220h160v-160H400v160Zm0 220h160v-160H400v160ZM180-400h160v-160H180v160Zm440 0h160v-160H620v160ZM180-180h160v-160H180v160Zm440 0h160v-160H620v160Z\"/>\n",
              "  </svg>\n",
              "    </button>\n",
              "\n",
              "  <style>\n",
              "    .colab-df-container {\n",
              "      display:flex;\n",
              "      gap: 12px;\n",
              "    }\n",
              "\n",
              "    .colab-df-convert {\n",
              "      background-color: #E8F0FE;\n",
              "      border: none;\n",
              "      border-radius: 50%;\n",
              "      cursor: pointer;\n",
              "      display: none;\n",
              "      fill: #1967D2;\n",
              "      height: 32px;\n",
              "      padding: 0 0 0 0;\n",
              "      width: 32px;\n",
              "    }\n",
              "\n",
              "    .colab-df-convert:hover {\n",
              "      background-color: #E2EBFA;\n",
              "      box-shadow: 0px 1px 2px rgba(60, 64, 67, 0.3), 0px 1px 3px 1px rgba(60, 64, 67, 0.15);\n",
              "      fill: #174EA6;\n",
              "    }\n",
              "\n",
              "    .colab-df-buttons div {\n",
              "      margin-bottom: 4px;\n",
              "    }\n",
              "\n",
              "    [theme=dark] .colab-df-convert {\n",
              "      background-color: #3B4455;\n",
              "      fill: #D2E3FC;\n",
              "    }\n",
              "\n",
              "    [theme=dark] .colab-df-convert:hover {\n",
              "      background-color: #434B5C;\n",
              "      box-shadow: 0px 1px 3px 1px rgba(0, 0, 0, 0.15);\n",
              "      filter: drop-shadow(0px 1px 2px rgba(0, 0, 0, 0.3));\n",
              "      fill: #FFFFFF;\n",
              "    }\n",
              "  </style>\n",
              "\n",
              "    <script>\n",
              "      const buttonEl =\n",
              "        document.querySelector('#df-253d797e-2b86-41f2-85d3-5adf29739e3f button.colab-df-convert');\n",
              "      buttonEl.style.display =\n",
              "        google.colab.kernel.accessAllowed ? 'block' : 'none';\n",
              "\n",
              "      async function convertToInteractive(key) {\n",
              "        const element = document.querySelector('#df-253d797e-2b86-41f2-85d3-5adf29739e3f');\n",
              "        const dataTable =\n",
              "          await google.colab.kernel.invokeFunction('convertToInteractive',\n",
              "                                                    [key], {});\n",
              "        if (!dataTable) return;\n",
              "\n",
              "        const docLinkHtml = 'Like what you see? Visit the ' +\n",
              "          '<a target=\"_blank\" href=https://colab.research.google.com/notebooks/data_table.ipynb>data table notebook</a>'\n",
              "          + ' to learn more about interactive tables.';\n",
              "        element.innerHTML = '';\n",
              "        dataTable['output_type'] = 'display_data';\n",
              "        await google.colab.output.renderOutput(dataTable, element);\n",
              "        const docLink = document.createElement('div');\n",
              "        docLink.innerHTML = docLinkHtml;\n",
              "        element.appendChild(docLink);\n",
              "      }\n",
              "    </script>\n",
              "  </div>\n",
              "\n",
              "\n",
              "<div id=\"df-e9b393af-35a7-4936-848a-b53f00275519\">\n",
              "  <button class=\"colab-df-quickchart\" onclick=\"quickchart('df-e9b393af-35a7-4936-848a-b53f00275519')\"\n",
              "            title=\"Suggest charts\"\n",
              "            style=\"display:none;\">\n",
              "\n",
              "<svg xmlns=\"http://www.w3.org/2000/svg\" height=\"24px\"viewBox=\"0 0 24 24\"\n",
              "     width=\"24px\">\n",
              "    <g>\n",
              "        <path d=\"M19 3H5c-1.1 0-2 .9-2 2v14c0 1.1.9 2 2 2h14c1.1 0 2-.9 2-2V5c0-1.1-.9-2-2-2zM9 17H7v-7h2v7zm4 0h-2V7h2v10zm4 0h-2v-4h2v4z\"/>\n",
              "    </g>\n",
              "</svg>\n",
              "  </button>\n",
              "\n",
              "<style>\n",
              "  .colab-df-quickchart {\n",
              "      --bg-color: #E8F0FE;\n",
              "      --fill-color: #1967D2;\n",
              "      --hover-bg-color: #E2EBFA;\n",
              "      --hover-fill-color: #174EA6;\n",
              "      --disabled-fill-color: #AAA;\n",
              "      --disabled-bg-color: #DDD;\n",
              "  }\n",
              "\n",
              "  [theme=dark] .colab-df-quickchart {\n",
              "      --bg-color: #3B4455;\n",
              "      --fill-color: #D2E3FC;\n",
              "      --hover-bg-color: #434B5C;\n",
              "      --hover-fill-color: #FFFFFF;\n",
              "      --disabled-bg-color: #3B4455;\n",
              "      --disabled-fill-color: #666;\n",
              "  }\n",
              "\n",
              "  .colab-df-quickchart {\n",
              "    background-color: var(--bg-color);\n",
              "    border: none;\n",
              "    border-radius: 50%;\n",
              "    cursor: pointer;\n",
              "    display: none;\n",
              "    fill: var(--fill-color);\n",
              "    height: 32px;\n",
              "    padding: 0;\n",
              "    width: 32px;\n",
              "  }\n",
              "\n",
              "  .colab-df-quickchart:hover {\n",
              "    background-color: var(--hover-bg-color);\n",
              "    box-shadow: 0 1px 2px rgba(60, 64, 67, 0.3), 0 1px 3px 1px rgba(60, 64, 67, 0.15);\n",
              "    fill: var(--button-hover-fill-color);\n",
              "  }\n",
              "\n",
              "  .colab-df-quickchart-complete:disabled,\n",
              "  .colab-df-quickchart-complete:disabled:hover {\n",
              "    background-color: var(--disabled-bg-color);\n",
              "    fill: var(--disabled-fill-color);\n",
              "    box-shadow: none;\n",
              "  }\n",
              "\n",
              "  .colab-df-spinner {\n",
              "    border: 2px solid var(--fill-color);\n",
              "    border-color: transparent;\n",
              "    border-bottom-color: var(--fill-color);\n",
              "    animation:\n",
              "      spin 1s steps(1) infinite;\n",
              "  }\n",
              "\n",
              "  @keyframes spin {\n",
              "    0% {\n",
              "      border-color: transparent;\n",
              "      border-bottom-color: var(--fill-color);\n",
              "      border-left-color: var(--fill-color);\n",
              "    }\n",
              "    20% {\n",
              "      border-color: transparent;\n",
              "      border-left-color: var(--fill-color);\n",
              "      border-top-color: var(--fill-color);\n",
              "    }\n",
              "    30% {\n",
              "      border-color: transparent;\n",
              "      border-left-color: var(--fill-color);\n",
              "      border-top-color: var(--fill-color);\n",
              "      border-right-color: var(--fill-color);\n",
              "    }\n",
              "    40% {\n",
              "      border-color: transparent;\n",
              "      border-right-color: var(--fill-color);\n",
              "      border-top-color: var(--fill-color);\n",
              "    }\n",
              "    60% {\n",
              "      border-color: transparent;\n",
              "      border-right-color: var(--fill-color);\n",
              "    }\n",
              "    80% {\n",
              "      border-color: transparent;\n",
              "      border-right-color: var(--fill-color);\n",
              "      border-bottom-color: var(--fill-color);\n",
              "    }\n",
              "    90% {\n",
              "      border-color: transparent;\n",
              "      border-bottom-color: var(--fill-color);\n",
              "    }\n",
              "  }\n",
              "</style>\n",
              "\n",
              "  <script>\n",
              "    async function quickchart(key) {\n",
              "      const quickchartButtonEl =\n",
              "        document.querySelector('#' + key + ' button');\n",
              "      quickchartButtonEl.disabled = true;  // To prevent multiple clicks.\n",
              "      quickchartButtonEl.classList.add('colab-df-spinner');\n",
              "      try {\n",
              "        const charts = await google.colab.kernel.invokeFunction(\n",
              "            'suggestCharts', [key], {});\n",
              "      } catch (error) {\n",
              "        console.error('Error during call to suggestCharts:', error);\n",
              "      }\n",
              "      quickchartButtonEl.classList.remove('colab-df-spinner');\n",
              "      quickchartButtonEl.classList.add('colab-df-quickchart-complete');\n",
              "    }\n",
              "    (() => {\n",
              "      let quickchartButtonEl =\n",
              "        document.querySelector('#df-e9b393af-35a7-4936-848a-b53f00275519 button');\n",
              "      quickchartButtonEl.style.display =\n",
              "        google.colab.kernel.accessAllowed ? 'block' : 'none';\n",
              "    })();\n",
              "  </script>\n",
              "</div>\n",
              "    </div>\n",
              "  </div>\n"
            ],
            "application/vnd.google.colaboratory.intrinsic+json": {
              "type": "dataframe",
              "variable_name": "df",
              "summary": "{\n  \"name\": \"df\",\n  \"rows\": 151,\n  \"fields\": [\n    {\n      \"column\": \"[\",\n      \"properties\": {\n        \"dtype\": \"number\",\n        \"std\": null,\n        \"min\": null,\n        \"max\": null,\n        \"num_unique_values\": 0,\n        \"samples\": [],\n        \"semantic_type\": \"\",\n        \"description\": \"\"\n      }\n    }\n  ]\n}"
            }
          },
          "metadata": {},
          "execution_count": 13
        }
      ]
    },
    {
      "cell_type": "code",
      "source": [
        "from pyspark.sql import SparkSession\n",
        "from pyspark.sql.functions import col\n",
        "from pyspark.sql.types import StructType, StructField, StringType, DoubleType\n",
        "\n",
        "# Initializing the Spark session\n",
        "spark = SparkSession.builder.appName(\"IrisDataFrameTask\").getOrCreate()\n",
        "\n",
        "# Defining the schema for the iris data\n",
        "iris_schema = StructType([\n",
        "    StructField(\"sepalLength\", DoubleType(), True),\n",
        "    StructField(\"sepalWidth\", DoubleType(), True),\n",
        "    StructField(\"petalLength\", DoubleType(), True),\n",
        "    StructField(\"petalWidth\", DoubleType(), True),\n",
        "    StructField(\"species\", StringType(), True),\n",
        "])\n",
        "\n",
        "iris_data = spark.read.json(\"/content/iris.json\", schema=iris_schema)\n",
        "iris_data.show()\n",
        "\n",
        "# Calculating Pearson Correlation between petalLength and petalWidth\n",
        "correlation = iris_data.select(\"petalLength\", \"petalWidth\").corr(\"petalLength\", \"petalWidth\")\n",
        "print(f\"Pearson Correlation between petalLength and petalWidth: {correlation}\")\n",
        "\n",
        "# Showing the columns sepalLength, sepalWidth, and species for rows with petalLength >= 1.4\n",
        "filtered_data = iris_data.filter(col(\"petalLength\") >= 1.4).select(\"sepalLength\", \"sepalWidth\", \"species\")\n",
        "filtered_data.show()\n",
        "\n",
        "# Stopping Spark session\n",
        "spark.stop()"
      ],
      "metadata": {
        "colab": {
          "base_uri": "https://localhost:8080/"
        },
        "id": "cXmeolxo9hvL",
        "outputId": "e6bb75a2-ec36-49b8-b5bc-3ef1206c3fe1"
      },
      "execution_count": null,
      "outputs": [
        {
          "output_type": "stream",
          "name": "stdout",
          "text": [
            "+-----------+----------+-----------+----------+-------+\n",
            "|sepalLength|sepalWidth|petalLength|petalWidth|species|\n",
            "+-----------+----------+-----------+----------+-------+\n",
            "|       NULL|      NULL|       NULL|      NULL|   NULL|\n",
            "|        5.1|       3.5|        1.4|       0.2| setosa|\n",
            "|        4.9|       3.0|        1.4|       0.2| setosa|\n",
            "|        4.7|       3.2|        1.3|       0.2| setosa|\n",
            "|        4.6|       3.1|        1.5|       0.2| setosa|\n",
            "|        5.0|       3.6|        1.4|       0.2| setosa|\n",
            "|        5.4|       3.9|        1.7|       0.4| setosa|\n",
            "|        4.6|       3.4|        1.4|       0.3| setosa|\n",
            "|        5.0|       3.4|        1.5|       0.2| setosa|\n",
            "|        4.4|       2.9|        1.4|       0.2| setosa|\n",
            "|        4.9|       3.1|        1.5|       0.1| setosa|\n",
            "|        5.4|       3.7|        1.5|       0.2| setosa|\n",
            "|        4.8|       3.4|        1.6|       0.2| setosa|\n",
            "|        4.8|       3.0|        1.4|       0.1| setosa|\n",
            "|        4.3|       3.0|        1.1|       0.1| setosa|\n",
            "|        5.8|       4.0|        1.2|       0.2| setosa|\n",
            "|        5.7|       4.4|        1.5|       0.4| setosa|\n",
            "|        5.4|       3.9|        1.3|       0.4| setosa|\n",
            "|        5.1|       3.5|        1.4|       0.3| setosa|\n",
            "|        5.7|       3.8|        1.7|       0.3| setosa|\n",
            "+-----------+----------+-----------+----------+-------+\n",
            "only showing top 20 rows\n",
            "\n",
            "Pearson Correlation between petalLength and petalWidth: 0.9626417223780231\n",
            "+-----------+----------+-------+\n",
            "|sepalLength|sepalWidth|species|\n",
            "+-----------+----------+-------+\n",
            "|        5.1|       3.5| setosa|\n",
            "|        4.9|       3.0| setosa|\n",
            "|        4.6|       3.1| setosa|\n",
            "|        5.0|       3.6| setosa|\n",
            "|        5.4|       3.9| setosa|\n",
            "|        4.6|       3.4| setosa|\n",
            "|        5.0|       3.4| setosa|\n",
            "|        4.4|       2.9| setosa|\n",
            "|        4.9|       3.1| setosa|\n",
            "|        5.4|       3.7| setosa|\n",
            "|        4.8|       3.4| setosa|\n",
            "|        4.8|       3.0| setosa|\n",
            "|        5.7|       4.4| setosa|\n",
            "|        5.1|       3.5| setosa|\n",
            "|        5.7|       3.8| setosa|\n",
            "|        5.1|       3.8| setosa|\n",
            "|        5.4|       3.4| setosa|\n",
            "|        5.1|       3.7| setosa|\n",
            "|        5.1|       3.3| setosa|\n",
            "|        4.8|       3.4| setosa|\n",
            "+-----------+----------+-------+\n",
            "only showing top 20 rows\n",
            "\n"
          ]
        }
      ]
    }
  ]
}